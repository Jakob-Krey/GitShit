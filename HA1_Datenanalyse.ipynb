{
 "cells": [
  {
   "cell_type": "markdown",
   "metadata": {},
   "source": [
    "# Hausaufgabe 1 (HA1): Datenanalyse\n",
    "Datenquelle: https://www.kaggle.com/datasets/ankitverma2010/ecommerce-customer-churn-analysis-and-prediction\n",
    "\n",
    "Setzen Sie Methoden der deskriptiven und explorativen Datenanalyse ein, um sich mit dem Inhalt des Datensatzes vertraut zu machen.\n",
    "\n",
    "Die Punkte in den TODOs sind Vorschläge, um Ihnen den Einstieg zu erleichtern. Schauen Sie, was davon sinnvoll umzusetzen ist und ergänzen Sie eigene Ideen."
   ]
  },
  {
   "cell_type": "code",
   "execution_count": 2,
   "metadata": {},
   "outputs": [],
   "source": [
    "import matplotlib.pyplot as plt\n",
    "import pandas as pd\n",
    "import openpyxl"
   ]
  },
  {
   "cell_type": "code",
   "execution_count": 3,
   "metadata": {},
   "outputs": [
    {
     "data": {
      "text/html": [
       "<div>\n",
       "<style scoped>\n",
       "    .dataframe tbody tr th:only-of-type {\n",
       "        vertical-align: middle;\n",
       "    }\n",
       "\n",
       "    .dataframe tbody tr th {\n",
       "        vertical-align: top;\n",
       "    }\n",
       "\n",
       "    .dataframe thead th {\n",
       "        text-align: right;\n",
       "    }\n",
       "</style>\n",
       "<table border=\"1\" class=\"dataframe\">\n",
       "  <thead>\n",
       "    <tr style=\"text-align: right;\">\n",
       "      <th></th>\n",
       "      <th>CustomerID</th>\n",
       "      <th>Churn</th>\n",
       "      <th>Tenure</th>\n",
       "      <th>PreferredLoginDevice</th>\n",
       "      <th>CityTier</th>\n",
       "      <th>WarehouseToHome</th>\n",
       "      <th>PreferredPaymentMode</th>\n",
       "      <th>Gender</th>\n",
       "      <th>HourSpendOnApp</th>\n",
       "      <th>NumberOfDeviceRegistered</th>\n",
       "      <th>PreferedOrderCat</th>\n",
       "      <th>SatisfactionScore</th>\n",
       "      <th>MaritalStatus</th>\n",
       "      <th>NumberOfAddress</th>\n",
       "      <th>Complain</th>\n",
       "      <th>OrderAmountHikeFromlastYear</th>\n",
       "      <th>CouponUsed</th>\n",
       "      <th>OrderCount</th>\n",
       "      <th>DaySinceLastOrder</th>\n",
       "      <th>CashbackAmount</th>\n",
       "    </tr>\n",
       "  </thead>\n",
       "  <tbody>\n",
       "    <tr>\n",
       "      <th>0</th>\n",
       "      <td>50001</td>\n",
       "      <td>1</td>\n",
       "      <td>4.0</td>\n",
       "      <td>Mobile Phone</td>\n",
       "      <td>3</td>\n",
       "      <td>6.0</td>\n",
       "      <td>Debit Card</td>\n",
       "      <td>Female</td>\n",
       "      <td>3.0</td>\n",
       "      <td>3</td>\n",
       "      <td>Laptop &amp; Accessory</td>\n",
       "      <td>2</td>\n",
       "      <td>Single</td>\n",
       "      <td>9</td>\n",
       "      <td>1</td>\n",
       "      <td>11.0</td>\n",
       "      <td>1.0</td>\n",
       "      <td>1.0</td>\n",
       "      <td>5.0</td>\n",
       "      <td>159.93</td>\n",
       "    </tr>\n",
       "    <tr>\n",
       "      <th>1</th>\n",
       "      <td>50002</td>\n",
       "      <td>1</td>\n",
       "      <td>NaN</td>\n",
       "      <td>Phone</td>\n",
       "      <td>1</td>\n",
       "      <td>8.0</td>\n",
       "      <td>UPI</td>\n",
       "      <td>Male</td>\n",
       "      <td>3.0</td>\n",
       "      <td>4</td>\n",
       "      <td>Mobile</td>\n",
       "      <td>3</td>\n",
       "      <td>Single</td>\n",
       "      <td>7</td>\n",
       "      <td>1</td>\n",
       "      <td>15.0</td>\n",
       "      <td>0.0</td>\n",
       "      <td>1.0</td>\n",
       "      <td>0.0</td>\n",
       "      <td>120.90</td>\n",
       "    </tr>\n",
       "    <tr>\n",
       "      <th>2</th>\n",
       "      <td>50003</td>\n",
       "      <td>1</td>\n",
       "      <td>NaN</td>\n",
       "      <td>Phone</td>\n",
       "      <td>1</td>\n",
       "      <td>30.0</td>\n",
       "      <td>Debit Card</td>\n",
       "      <td>Male</td>\n",
       "      <td>2.0</td>\n",
       "      <td>4</td>\n",
       "      <td>Mobile</td>\n",
       "      <td>3</td>\n",
       "      <td>Single</td>\n",
       "      <td>6</td>\n",
       "      <td>1</td>\n",
       "      <td>14.0</td>\n",
       "      <td>0.0</td>\n",
       "      <td>1.0</td>\n",
       "      <td>3.0</td>\n",
       "      <td>120.28</td>\n",
       "    </tr>\n",
       "    <tr>\n",
       "      <th>3</th>\n",
       "      <td>50004</td>\n",
       "      <td>1</td>\n",
       "      <td>0.0</td>\n",
       "      <td>Phone</td>\n",
       "      <td>3</td>\n",
       "      <td>15.0</td>\n",
       "      <td>Debit Card</td>\n",
       "      <td>Male</td>\n",
       "      <td>2.0</td>\n",
       "      <td>4</td>\n",
       "      <td>Laptop &amp; Accessory</td>\n",
       "      <td>5</td>\n",
       "      <td>Single</td>\n",
       "      <td>8</td>\n",
       "      <td>0</td>\n",
       "      <td>23.0</td>\n",
       "      <td>0.0</td>\n",
       "      <td>1.0</td>\n",
       "      <td>3.0</td>\n",
       "      <td>134.07</td>\n",
       "    </tr>\n",
       "    <tr>\n",
       "      <th>4</th>\n",
       "      <td>50005</td>\n",
       "      <td>1</td>\n",
       "      <td>0.0</td>\n",
       "      <td>Phone</td>\n",
       "      <td>1</td>\n",
       "      <td>12.0</td>\n",
       "      <td>CC</td>\n",
       "      <td>Male</td>\n",
       "      <td>NaN</td>\n",
       "      <td>3</td>\n",
       "      <td>Mobile</td>\n",
       "      <td>5</td>\n",
       "      <td>Single</td>\n",
       "      <td>3</td>\n",
       "      <td>0</td>\n",
       "      <td>11.0</td>\n",
       "      <td>1.0</td>\n",
       "      <td>1.0</td>\n",
       "      <td>3.0</td>\n",
       "      <td>129.60</td>\n",
       "    </tr>\n",
       "  </tbody>\n",
       "</table>\n",
       "</div>"
      ],
      "text/plain": [
       "   CustomerID  Churn  Tenure PreferredLoginDevice  CityTier  WarehouseToHome  \\\n",
       "0       50001      1     4.0         Mobile Phone         3              6.0   \n",
       "1       50002      1     NaN                Phone         1              8.0   \n",
       "2       50003      1     NaN                Phone         1             30.0   \n",
       "3       50004      1     0.0                Phone         3             15.0   \n",
       "4       50005      1     0.0                Phone         1             12.0   \n",
       "\n",
       "  PreferredPaymentMode  Gender  HourSpendOnApp  NumberOfDeviceRegistered  \\\n",
       "0           Debit Card  Female             3.0                         3   \n",
       "1                  UPI    Male             3.0                         4   \n",
       "2           Debit Card    Male             2.0                         4   \n",
       "3           Debit Card    Male             2.0                         4   \n",
       "4                   CC    Male             NaN                         3   \n",
       "\n",
       "     PreferedOrderCat  SatisfactionScore MaritalStatus  NumberOfAddress  \\\n",
       "0  Laptop & Accessory                  2        Single                9   \n",
       "1              Mobile                  3        Single                7   \n",
       "2              Mobile                  3        Single                6   \n",
       "3  Laptop & Accessory                  5        Single                8   \n",
       "4              Mobile                  5        Single                3   \n",
       "\n",
       "   Complain  OrderAmountHikeFromlastYear  CouponUsed  OrderCount  \\\n",
       "0         1                         11.0         1.0         1.0   \n",
       "1         1                         15.0         0.0         1.0   \n",
       "2         1                         14.0         0.0         1.0   \n",
       "3         0                         23.0         0.0         1.0   \n",
       "4         0                         11.0         1.0         1.0   \n",
       "\n",
       "   DaySinceLastOrder  CashbackAmount  \n",
       "0                5.0          159.93  \n",
       "1                0.0          120.90  \n",
       "2                3.0          120.28  \n",
       "3                3.0          134.07  \n",
       "4                3.0          129.60  "
      ]
     },
     "execution_count": 3,
     "metadata": {},
     "output_type": "execute_result"
    }
   ],
   "source": [
    "# Load data\n",
    "df = pd.read_excel('ECommerce_Dataset.xlsx', sheet_name='E Comm')\n",
    "df.head()"
   ]
  },
  {
   "cell_type": "code",
   "execution_count": 5,
   "metadata": {},
   "outputs": [
    {
     "name": "stdout",
     "output_type": "stream",
     "text": [
      "CustomerID\n",
      "Churn\n",
      "Tenure\n",
      "PreferredLoginDevice\n",
      "CityTier\n",
      "WarehouseToHome\n",
      "PreferredPaymentMode\n",
      "Gender\n",
      "HourSpendOnApp\n",
      "NumberOfDeviceRegistered\n",
      "PreferedOrderCat\n",
      "SatisfactionScore\n",
      "MaritalStatus\n",
      "NumberOfAddress\n",
      "Complain\n",
      "OrderAmountHikeFromlastYear\n",
      "CouponUsed\n",
      "OrderCount\n",
      "DaySinceLastOrder\n",
      "CashbackAmount\n"
     ]
    }
   ],
   "source": [
    "for column_header in df.columns:\n",
    "    print(column_header)"
   ]
  },
  {
   "cell_type": "code",
   "execution_count": 6,
   "metadata": {},
   "outputs": [
    {
     "name": "stdout",
     "output_type": "stream",
     "text": [
      "- ***CustomerID*** <br>Datentyp: ***int64*** <br>Bedeutung: <br>Interpretation:\n",
      "- ***Churn*** <br>Datentyp: ***int64*** <br>Bedeutung: <br>Interpretation:\n",
      "- ***Tenure*** <br>Datentyp: ***float64*** <br>Bedeutung: <br>Interpretation:\n",
      "- ***PreferredLoginDevice*** <br>Datentyp: ***object*** <br>Bedeutung: <br>Interpretation:\n",
      "- ***CityTier*** <br>Datentyp: ***int64*** <br>Bedeutung: <br>Interpretation:\n",
      "- ***WarehouseToHome*** <br>Datentyp: ***float64*** <br>Bedeutung: <br>Interpretation:\n",
      "- ***PreferredPaymentMode*** <br>Datentyp: ***object*** <br>Bedeutung: <br>Interpretation:\n",
      "- ***Gender*** <br>Datentyp: ***object*** <br>Bedeutung: <br>Interpretation:\n",
      "- ***HourSpendOnApp*** <br>Datentyp: ***float64*** <br>Bedeutung: <br>Interpretation:\n",
      "- ***NumberOfDeviceRegistered*** <br>Datentyp: ***int64*** <br>Bedeutung: <br>Interpretation:\n",
      "- ***PreferedOrderCat*** <br>Datentyp: ***object*** <br>Bedeutung: <br>Interpretation:\n",
      "- ***SatisfactionScore*** <br>Datentyp: ***int64*** <br>Bedeutung: <br>Interpretation:\n",
      "- ***MaritalStatus*** <br>Datentyp: ***object*** <br>Bedeutung: <br>Interpretation:\n",
      "- ***NumberOfAddress*** <br>Datentyp: ***int64*** <br>Bedeutung: <br>Interpretation:\n",
      "- ***Complain*** <br>Datentyp: ***int64*** <br>Bedeutung: <br>Interpretation:\n",
      "- ***OrderAmountHikeFromlastYear*** <br>Datentyp: ***float64*** <br>Bedeutung: <br>Interpretation:\n",
      "- ***CouponUsed*** <br>Datentyp: ***float64*** <br>Bedeutung: <br>Interpretation:\n",
      "- ***OrderCount*** <br>Datentyp: ***float64*** <br>Bedeutung: <br>Interpretation:\n",
      "- ***DaySinceLastOrder*** <br>Datentyp: ***float64*** <br>Bedeutung: <br>Interpretation:\n",
      "- ***CashbackAmount*** <br>Datentyp: ***float64*** <br>Bedeutung: <br>Interpretation:\n"
     ]
    }
   ],
   "source": [
    "for column in df.columns:\n",
    "    print(f\"- ***{column}*** <br>Datentyp: ***{df[column].dtype}*** <br>Bedeutung: <br>Interpretation:\")"
   ]
  },
  {
   "cell_type": "markdown",
   "metadata": {},
   "source": [
    "### TODO:\n",
    "\n",
    "Beschreiben Sie die Daten!\n",
    "\n",
    "* Welche Variablen gibt es und was beschreiben sie?\n",
    "* Welchen Datentyp haben sie?\n",
    "* Wie viele Einträge (= Kunden) gibt es?\n",
    "* Wie viele verschiedene Einträge gibt es in jeder Spalte?\n",
    "* Gibt es überflüssige Informationen, die entfernt werden kann?\n",
    "* Gibt es fehlende Daten?\n",
    "* Gibt es fehlerhafte Daten?\n",
    "* Wie groß sind Mittelwert und Standardabweichung?\n",
    "* Sind die Daten normalverteilt?\n",
    "* ..."
   ]
  },
  {
   "cell_type": "code",
   "execution_count": 7,
   "metadata": {},
   "outputs": [
    {
     "data": {
      "text/html": [
       "<div>\n",
       "<style scoped>\n",
       "    .dataframe tbody tr th:only-of-type {\n",
       "        vertical-align: middle;\n",
       "    }\n",
       "\n",
       "    .dataframe tbody tr th {\n",
       "        vertical-align: top;\n",
       "    }\n",
       "\n",
       "    .dataframe thead th {\n",
       "        text-align: right;\n",
       "    }\n",
       "</style>\n",
       "<table border=\"1\" class=\"dataframe\">\n",
       "  <thead>\n",
       "    <tr style=\"text-align: right;\">\n",
       "      <th></th>\n",
       "      <th>CustomerID</th>\n",
       "      <th>Churn</th>\n",
       "      <th>Tenure</th>\n",
       "      <th>CityTier</th>\n",
       "      <th>WarehouseToHome</th>\n",
       "      <th>HourSpendOnApp</th>\n",
       "      <th>NumberOfDeviceRegistered</th>\n",
       "      <th>SatisfactionScore</th>\n",
       "      <th>NumberOfAddress</th>\n",
       "      <th>Complain</th>\n",
       "      <th>OrderAmountHikeFromlastYear</th>\n",
       "      <th>CouponUsed</th>\n",
       "      <th>OrderCount</th>\n",
       "      <th>DaySinceLastOrder</th>\n",
       "      <th>CashbackAmount</th>\n",
       "    </tr>\n",
       "  </thead>\n",
       "  <tbody>\n",
       "    <tr>\n",
       "      <th>count</th>\n",
       "      <td>5630.000000</td>\n",
       "      <td>5630.000000</td>\n",
       "      <td>5366.000000</td>\n",
       "      <td>5630.000000</td>\n",
       "      <td>5379.000000</td>\n",
       "      <td>5375.000000</td>\n",
       "      <td>5630.000000</td>\n",
       "      <td>5630.000000</td>\n",
       "      <td>5630.000000</td>\n",
       "      <td>5630.000000</td>\n",
       "      <td>5365.000000</td>\n",
       "      <td>5374.000000</td>\n",
       "      <td>5372.000000</td>\n",
       "      <td>5323.000000</td>\n",
       "      <td>5630.000000</td>\n",
       "    </tr>\n",
       "    <tr>\n",
       "      <th>mean</th>\n",
       "      <td>52815.500000</td>\n",
       "      <td>0.168384</td>\n",
       "      <td>10.189899</td>\n",
       "      <td>1.654707</td>\n",
       "      <td>15.639896</td>\n",
       "      <td>2.931535</td>\n",
       "      <td>3.688988</td>\n",
       "      <td>3.066785</td>\n",
       "      <td>4.214032</td>\n",
       "      <td>0.284902</td>\n",
       "      <td>15.707922</td>\n",
       "      <td>1.751023</td>\n",
       "      <td>3.008004</td>\n",
       "      <td>4.543491</td>\n",
       "      <td>177.223030</td>\n",
       "    </tr>\n",
       "    <tr>\n",
       "      <th>std</th>\n",
       "      <td>1625.385339</td>\n",
       "      <td>0.374240</td>\n",
       "      <td>8.557241</td>\n",
       "      <td>0.915389</td>\n",
       "      <td>8.531475</td>\n",
       "      <td>0.721926</td>\n",
       "      <td>1.023999</td>\n",
       "      <td>1.380194</td>\n",
       "      <td>2.583586</td>\n",
       "      <td>0.451408</td>\n",
       "      <td>3.675485</td>\n",
       "      <td>1.894621</td>\n",
       "      <td>2.939680</td>\n",
       "      <td>3.654433</td>\n",
       "      <td>49.207036</td>\n",
       "    </tr>\n",
       "    <tr>\n",
       "      <th>min</th>\n",
       "      <td>50001.000000</td>\n",
       "      <td>0.000000</td>\n",
       "      <td>0.000000</td>\n",
       "      <td>1.000000</td>\n",
       "      <td>5.000000</td>\n",
       "      <td>0.000000</td>\n",
       "      <td>1.000000</td>\n",
       "      <td>1.000000</td>\n",
       "      <td>1.000000</td>\n",
       "      <td>0.000000</td>\n",
       "      <td>11.000000</td>\n",
       "      <td>0.000000</td>\n",
       "      <td>1.000000</td>\n",
       "      <td>0.000000</td>\n",
       "      <td>0.000000</td>\n",
       "    </tr>\n",
       "    <tr>\n",
       "      <th>25%</th>\n",
       "      <td>51408.250000</td>\n",
       "      <td>0.000000</td>\n",
       "      <td>2.000000</td>\n",
       "      <td>1.000000</td>\n",
       "      <td>9.000000</td>\n",
       "      <td>2.000000</td>\n",
       "      <td>3.000000</td>\n",
       "      <td>2.000000</td>\n",
       "      <td>2.000000</td>\n",
       "      <td>0.000000</td>\n",
       "      <td>13.000000</td>\n",
       "      <td>1.000000</td>\n",
       "      <td>1.000000</td>\n",
       "      <td>2.000000</td>\n",
       "      <td>145.770000</td>\n",
       "    </tr>\n",
       "    <tr>\n",
       "      <th>50%</th>\n",
       "      <td>52815.500000</td>\n",
       "      <td>0.000000</td>\n",
       "      <td>9.000000</td>\n",
       "      <td>1.000000</td>\n",
       "      <td>14.000000</td>\n",
       "      <td>3.000000</td>\n",
       "      <td>4.000000</td>\n",
       "      <td>3.000000</td>\n",
       "      <td>3.000000</td>\n",
       "      <td>0.000000</td>\n",
       "      <td>15.000000</td>\n",
       "      <td>1.000000</td>\n",
       "      <td>2.000000</td>\n",
       "      <td>3.000000</td>\n",
       "      <td>163.280000</td>\n",
       "    </tr>\n",
       "    <tr>\n",
       "      <th>75%</th>\n",
       "      <td>54222.750000</td>\n",
       "      <td>0.000000</td>\n",
       "      <td>16.000000</td>\n",
       "      <td>3.000000</td>\n",
       "      <td>20.000000</td>\n",
       "      <td>3.000000</td>\n",
       "      <td>4.000000</td>\n",
       "      <td>4.000000</td>\n",
       "      <td>6.000000</td>\n",
       "      <td>1.000000</td>\n",
       "      <td>18.000000</td>\n",
       "      <td>2.000000</td>\n",
       "      <td>3.000000</td>\n",
       "      <td>7.000000</td>\n",
       "      <td>196.392500</td>\n",
       "    </tr>\n",
       "    <tr>\n",
       "      <th>max</th>\n",
       "      <td>55630.000000</td>\n",
       "      <td>1.000000</td>\n",
       "      <td>61.000000</td>\n",
       "      <td>3.000000</td>\n",
       "      <td>127.000000</td>\n",
       "      <td>5.000000</td>\n",
       "      <td>6.000000</td>\n",
       "      <td>5.000000</td>\n",
       "      <td>22.000000</td>\n",
       "      <td>1.000000</td>\n",
       "      <td>26.000000</td>\n",
       "      <td>16.000000</td>\n",
       "      <td>16.000000</td>\n",
       "      <td>46.000000</td>\n",
       "      <td>324.990000</td>\n",
       "    </tr>\n",
       "  </tbody>\n",
       "</table>\n",
       "</div>"
      ],
      "text/plain": [
       "         CustomerID        Churn       Tenure     CityTier  WarehouseToHome  \\\n",
       "count   5630.000000  5630.000000  5366.000000  5630.000000      5379.000000   \n",
       "mean   52815.500000     0.168384    10.189899     1.654707        15.639896   \n",
       "std     1625.385339     0.374240     8.557241     0.915389         8.531475   \n",
       "min    50001.000000     0.000000     0.000000     1.000000         5.000000   \n",
       "25%    51408.250000     0.000000     2.000000     1.000000         9.000000   \n",
       "50%    52815.500000     0.000000     9.000000     1.000000        14.000000   \n",
       "75%    54222.750000     0.000000    16.000000     3.000000        20.000000   \n",
       "max    55630.000000     1.000000    61.000000     3.000000       127.000000   \n",
       "\n",
       "       HourSpendOnApp  NumberOfDeviceRegistered  SatisfactionScore  \\\n",
       "count     5375.000000               5630.000000        5630.000000   \n",
       "mean         2.931535                  3.688988           3.066785   \n",
       "std          0.721926                  1.023999           1.380194   \n",
       "min          0.000000                  1.000000           1.000000   \n",
       "25%          2.000000                  3.000000           2.000000   \n",
       "50%          3.000000                  4.000000           3.000000   \n",
       "75%          3.000000                  4.000000           4.000000   \n",
       "max          5.000000                  6.000000           5.000000   \n",
       "\n",
       "       NumberOfAddress     Complain  OrderAmountHikeFromlastYear   CouponUsed  \\\n",
       "count      5630.000000  5630.000000                  5365.000000  5374.000000   \n",
       "mean          4.214032     0.284902                    15.707922     1.751023   \n",
       "std           2.583586     0.451408                     3.675485     1.894621   \n",
       "min           1.000000     0.000000                    11.000000     0.000000   \n",
       "25%           2.000000     0.000000                    13.000000     1.000000   \n",
       "50%           3.000000     0.000000                    15.000000     1.000000   \n",
       "75%           6.000000     1.000000                    18.000000     2.000000   \n",
       "max          22.000000     1.000000                    26.000000    16.000000   \n",
       "\n",
       "        OrderCount  DaySinceLastOrder  CashbackAmount  \n",
       "count  5372.000000        5323.000000     5630.000000  \n",
       "mean      3.008004           4.543491      177.223030  \n",
       "std       2.939680           3.654433       49.207036  \n",
       "min       1.000000           0.000000        0.000000  \n",
       "25%       1.000000           2.000000      145.770000  \n",
       "50%       2.000000           3.000000      163.280000  \n",
       "75%       3.000000           7.000000      196.392500  \n",
       "max      16.000000          46.000000      324.990000  "
      ]
     },
     "execution_count": 7,
     "metadata": {},
     "output_type": "execute_result"
    }
   ],
   "source": [
    "df.describe()"
   ]
  },
  {
   "cell_type": "code",
   "execution_count": 8,
   "metadata": {},
   "outputs": [
    {
     "name": "stdout",
     "output_type": "stream",
     "text": [
      "CustomerID\n",
      "Churn\n",
      "Tenure\n",
      "PreferredLoginDevice\n",
      "CityTier\n",
      "WarehouseToHome\n",
      "PreferredPaymentMode\n",
      "Gender\n",
      "HourSpendOnApp\n",
      "NumberOfDeviceRegistered\n",
      "PreferedOrderCat\n",
      "SatisfactionScore\n",
      "MaritalStatus\n",
      "NumberOfAddress\n",
      "Complain\n",
      "OrderAmountHikeFromlastYear\n",
      "CouponUsed\n",
      "OrderCount\n",
      "DaySinceLastOrder\n",
      "CashbackAmount\n"
     ]
    }
   ],
   "source": [
    "# Welche Variablen gibt es und was beschreiben sie? \n",
    "# columns in an dataframe are the column header\n",
    "for i in df.columns:\n",
    "    print(i)"
   ]
  },
  {
   "cell_type": "markdown",
   "metadata": {},
   "source": [
    "#### beschreiben der variablen\n",
    "- CustomerID: Eindeutige Identifikationsnummer für Kunden.\n",
    "- Churn: Analyse der Kundentreue und -abwanderung.\n",
    "- Tenure: Dauer der Kundenbindung.\n",
    "- PreferredLoginDevice: Bevorzugtes Anmeldegerät.\n",
    "- CityTier: Kategorisierung von Stadttypen.\n",
    "- WarehouseToHome: Entfernung vom Lager zum Wohnort.\n",
    "- PreferredPaymentMode: Bevorzugte Zahlungsmethode.\n",
    "- Gender: Geschlecht des Kunden.\n",
    "- HourSpendOnApp: Durchschnittliche App-Nutzungsdauer.\n",
    "- NumberOfDeviceRegistered: Anzahl der registrierten Geräte.\n",
    "- PreferedOrderCat: Bevorzugte Produktkategorie.\n",
    "- SatisfactionScore: Kundenzufriedenheit in Punkten.\n",
    "- MaritalStatus: Familienstand des Kunden.\n",
    "- NumberOfAddress: Anzahl der Lieferadressen.\n",
    "- Complain: Kundenbeschwerden-Indikator.\n",
    "- OrderAmountHikeFromlastYear: Prozentsatz der Bestellwertänderung im Vergleich zum Vorjahr.\n",
    "- CouponUsed: Anzahl der verwendeten Coupons.\n",
    "- OrderCount: Gesamtanzahl der Bestellungen.\n",
    "- DaySinceLastOrder: Tage seit der letzten Bestellung.\n",
    "- CashbackAmount: Betrag an erhaltenem Cashback bei Transaktionen."
   ]
  },
  {
   "cell_type": "code",
   "execution_count": 9,
   "metadata": {},
   "outputs": [
    {
     "data": {
      "text/plain": [
       "CustomerID                       int64\n",
       "Churn                            int64\n",
       "Tenure                         float64\n",
       "PreferredLoginDevice            object\n",
       "CityTier                         int64\n",
       "WarehouseToHome                float64\n",
       "PreferredPaymentMode            object\n",
       "Gender                          object\n",
       "HourSpendOnApp                 float64\n",
       "NumberOfDeviceRegistered         int64\n",
       "PreferedOrderCat                object\n",
       "SatisfactionScore                int64\n",
       "MaritalStatus                   object\n",
       "NumberOfAddress                  int64\n",
       "Complain                         int64\n",
       "OrderAmountHikeFromlastYear    float64\n",
       "CouponUsed                     float64\n",
       "OrderCount                     float64\n",
       "DaySinceLastOrder              float64\n",
       "CashbackAmount                 float64\n",
       "dtype: object"
      ]
     },
     "execution_count": 9,
     "metadata": {},
     "output_type": "execute_result"
    }
   ],
   "source": [
    "#  Welchen Datentyp haben sie?\n",
    "# Datata\n",
    "df.dtypes"
   ]
  },
  {
   "cell_type": "code",
   "execution_count": 10,
   "metadata": {},
   "outputs": [
    {
     "name": "stdout",
     "output_type": "stream",
     "text": [
      "es gibt: 5630 Kunden\n"
     ]
    }
   ],
   "source": [
    "# Wie viele Einträge (= Kunden) gibt es?\n",
    "print(f\"es gibt: {df['CustomerID'].count()} Kunden\")"
   ]
  },
  {
   "cell_type": "code",
   "execution_count": 11,
   "metadata": {},
   "outputs": [
    {
     "data": {
      "text/plain": [
       "CustomerID                     5630\n",
       "Churn                             2\n",
       "Tenure                           36\n",
       "PreferredLoginDevice              3\n",
       "CityTier                          3\n",
       "WarehouseToHome                  34\n",
       "PreferredPaymentMode              7\n",
       "Gender                            2\n",
       "HourSpendOnApp                    6\n",
       "NumberOfDeviceRegistered          6\n",
       "PreferedOrderCat                  6\n",
       "SatisfactionScore                 5\n",
       "MaritalStatus                     3\n",
       "NumberOfAddress                  15\n",
       "Complain                          2\n",
       "OrderAmountHikeFromlastYear      16\n",
       "CouponUsed                       17\n",
       "OrderCount                       16\n",
       "DaySinceLastOrder                22\n",
       "CashbackAmount                 2586\n",
       "dtype: int64"
      ]
     },
     "execution_count": 11,
     "metadata": {},
     "output_type": "execute_result"
    }
   ],
   "source": [
    "# Wie viele verschiedene Einträge gibt es in jeder Spalte?\n",
    "df.nunique()"
   ]
  },
  {
   "cell_type": "code",
   "execution_count": 12,
   "metadata": {},
   "outputs": [
    {
     "name": "stdout",
     "output_type": "stream",
     "text": [
      "CustomerID  <br>einzigartige Werte: [50001 50002 50003 ... 55628 55629 55630]\n",
      "Churn  <br>einzigartige Werte: [1 0]\n",
      "Tenure  <br>einzigartige Werte: [ 4. nan  0. 13. 11.  9. 19. 20. 14.  8. 18.  5.  2. 30.  1. 23.  3. 29.\n",
      "  6. 26. 28.  7. 24. 25. 10. 15. 22. 27. 16. 12. 21. 17. 50. 60. 31. 51.\n",
      " 61.]\n",
      "PreferredLoginDevice  <br>einzigartige Werte: ['Mobile Phone' 'Phone' 'Computer']\n",
      "CityTier  <br>einzigartige Werte: [3 1 2]\n",
      "WarehouseToHome  <br>einzigartige Werte: [  6.   8.  30.  15.  12.  22.  11.   9.  31.  18.  13.  20.  29.  28.\n",
      "  26.  14.  nan  10.  27.  17.  23.  33.  19.  35.  24.  16.  25.  32.\n",
      "  34.   5.  21. 126.   7.  36. 127.]\n",
      "PreferredPaymentMode  <br>einzigartige Werte: ['Debit Card' 'UPI' 'CC' 'Cash on Delivery' 'E wallet' 'COD' 'Credit Card']\n",
      "Gender  <br>einzigartige Werte: ['Female' 'Male']\n",
      "HourSpendOnApp  <br>einzigartige Werte: [ 3.  2. nan  1.  0.  4.  5.]\n",
      "NumberOfDeviceRegistered  <br>einzigartige Werte: [3 4 5 2 1 6]\n",
      "PreferedOrderCat  <br>einzigartige Werte: ['Laptop & Accessory' 'Mobile' 'Mobile Phone' 'Others' 'Fashion' 'Grocery']\n",
      "SatisfactionScore  <br>einzigartige Werte: [2 3 5 4 1]\n",
      "MaritalStatus  <br>einzigartige Werte: ['Single' 'Divorced' 'Married']\n",
      "NumberOfAddress  <br>einzigartige Werte: [ 9  7  6  8  3  2  4 10  1  5 19 21 11 20 22]\n",
      "Complain  <br>einzigartige Werte: [1 0]\n",
      "OrderAmountHikeFromlastYear  <br>einzigartige Werte: [11. 15. 14. 23. 22. 16. 12. nan 13. 17. 18. 24. 19. 20. 21. 25. 26.]\n",
      "CouponUsed  <br>einzigartige Werte: [ 1.  0.  4.  2.  9.  6. 11. nan  7. 12. 10.  5.  3. 13. 15.  8. 14. 16.]\n",
      "OrderCount  <br>einzigartige Werte: [ 1.  6.  2. 15.  4.  7.  3.  9. nan 11.  5. 12. 10.  8. 13. 14. 16.]\n",
      "DaySinceLastOrder  <br>einzigartige Werte: [ 5.  0.  3.  7.  2.  1.  8.  6.  4. 15.  9. 11. 10. nan 13. 12. 17. 16.\n",
      " 14. 30. 46. 18. 31.]\n",
      "CashbackAmount  <br>einzigartige Werte: [159.93 120.9  120.28 ... 173.77 287.91 173.78]\n"
     ]
    }
   ],
   "source": [
    "# Jeden einzigartigen Wert einer Variablen ausgeben\n",
    "for column_header in df.columns:\n",
    "    print(f\"{column_header}  <br>einzigartige Werte: {df[column_header].unique()}\")"
   ]
  },
  {
   "cell_type": "code",
   "execution_count": 13,
   "metadata": {},
   "outputs": [
    {
     "name": "stdout",
     "output_type": "stream",
     "text": [
      "3044\n"
     ]
    }
   ],
   "source": [
    "print(df['CashbackAmount'].duplicated().sum())"
   ]
  },
  {
   "cell_type": "markdown",
   "metadata": {},
   "source": [
    "#### Gibt es überflüssige Informationen, die entfernt werden kann?\n",
    "die CustomerID kann entfernt werden da diese keine Informationen bietet um den Churn zu beschreiben oder gerunde für diesen zu ermitteln."
   ]
  },
  {
   "cell_type": "code",
   "execution_count": 14,
   "metadata": {},
   "outputs": [
    {
     "ename": "SyntaxError",
     "evalue": "invalid syntax (2644959397.py, line 1)",
     "output_type": "error",
     "traceback": [
      "\u001b[1;36m  Cell \u001b[1;32mIn[14], line 1\u001b[1;36m\u001b[0m\n\u001b[1;33m    df.(drop'CustomerID', axis=1, inplace=True)\u001b[0m\n\u001b[1;37m       ^\u001b[0m\n\u001b[1;31mSyntaxError\u001b[0m\u001b[1;31m:\u001b[0m invalid syntax\n"
     ]
    }
   ],
   "source": [
    "df.(drop'CustomerID', axis=1, inplace=True)\n",
    "# axis=1 => axis ist ein Parameter in Pandas, der angibt, \n",
    "# entlang welcher Achse eine Operation \n",
    "# in einem DataFrame oder einer Series durchgeführt werden soll. \n",
    "# axis=0 bezieht sich auf die Zeilenachse, und axis=1 bezieht sich auf die Spaltenachse. "
   ]
  },
  {
   "cell_type": "code",
   "execution_count": null,
   "metadata": {},
   "outputs": [
    {
     "name": "stdout",
     "output_type": "stream",
     "text": [
      "Churn                            0\n",
      "Tenure                         264\n",
      "PreferredLoginDevice             0\n",
      "CityTier                         0\n",
      "WarehouseToHome                251\n",
      "PreferredPaymentMode             0\n",
      "Gender                           0\n",
      "HourSpendOnApp                 255\n",
      "NumberOfDeviceRegistered         0\n",
      "PreferedOrderCat                 0\n",
      "SatisfactionScore                0\n",
      "MaritalStatus                    0\n",
      "NumberOfAddress                  0\n",
      "Complain                         0\n",
      "OrderAmountHikeFromlastYear    265\n",
      "CouponUsed                     256\n",
      "OrderCount                     258\n",
      "DaySinceLastOrder              307\n",
      "CashbackAmount                   0\n",
      "dtype: int64\n",
      "\n",
      "Es gibt fehlende Daten, die meisten daten fehlen in der Spalte DaySinceLastOrder\n"
     ]
    }
   ],
   "source": [
    "# Gibt es fehlende Daten?\n",
    "print(df.isnull().sum())\n",
    "print(\"\\nEs gibt fehlende Daten, die meisten daten fehlen in der Spalte DaySinceLastOrder\")"
   ]
  },
  {
   "cell_type": "code",
   "execution_count": null,
   "metadata": {},
   "outputs": [
    {
     "name": "stdout",
     "output_type": "stream",
     "text": [
      "Es gibt: 556 Duplikate von Zeilen\n"
     ]
    }
   ],
   "source": [
    "print(f\"Es gibt: {df.duplicated().sum()} Duplikate von Zeilen\")"
   ]
  },
  {
   "cell_type": "code",
   "execution_count": null,
   "metadata": {},
   "outputs": [
    {
     "name": "stdout",
     "output_type": "stream",
     "text": [
      "Mittelwert der Variablen gerundet auf zwei nachkommastellen \n",
      "(Variablen die keine Zahlenwerte enthalten werden ausgeschlossen)\n",
      "\n",
      "Churn: 0.17\n",
      "Tenure: 10.19\n",
      "CityTier: 1.65\n",
      "WarehouseToHome: 15.64\n",
      "HourSpendOnApp: 2.93\n",
      "NumberOfDeviceRegistered: 3.69\n",
      "SatisfactionScore: 3.07\n",
      "NumberOfAddress: 4.21\n",
      "Complain: 0.28\n",
      "OrderAmountHikeFromlastYear: 15.71\n",
      "CouponUsed: 1.75\n",
      "OrderCount: 3.01\n",
      "DaySinceLastOrder: 4.54\n",
      "CashbackAmount: 177.22\n"
     ]
    }
   ],
   "source": [
    "# Wie groß sind Mittelwert\n",
    "print(\"Mittelwert der Variablen gerundet auf zwei nachkommastellen \\n(Variablen die keine Zahlenwerte enthalten werden ausgeschlossen)\\n\")\n",
    "for i in df:\n",
    "    if df[i].dtype == \"object\":\n",
    "        continue\n",
    "    print(f\"{i}: {round(df[i].mean(),2)}\")"
   ]
  },
  {
   "cell_type": "code",
   "execution_count": null,
   "metadata": {},
   "outputs": [
    {
     "name": "stdout",
     "output_type": "stream",
     "text": [
      "Standartabweichung der Variablen gerundet auf zwei nachkommastellen \n",
      "(Variablen die keine Zahlenwerte enthalten werden ausgeschlossen)\n",
      "\n",
      "Churn: 0.37\n",
      "Tenure: 8.56\n",
      "CityTier: 0.92\n",
      "WarehouseToHome: 8.53\n",
      "HourSpendOnApp: 0.72\n",
      "NumberOfDeviceRegistered: 1.02\n",
      "SatisfactionScore: 1.38\n",
      "NumberOfAddress: 2.58\n",
      "Complain: 0.45\n",
      "OrderAmountHikeFromlastYear: 3.68\n",
      "CouponUsed: 1.89\n",
      "OrderCount: 2.94\n",
      "DaySinceLastOrder: 3.65\n",
      "CashbackAmount: 49.21\n"
     ]
    }
   ],
   "source": [
    "# Wie groß sind die Standartabweichungen?\n",
    "print(\"Standartabweichung der Variablen gerundet auf zwei nachkommastellen \\n(Variablen die keine Zahlenwerte enthalten werden ausgeschlossen)\\n\")\n",
    "for i in df:\n",
    "    if df[i].dtype == \"object\":\n",
    "        continue\n",
    "    print(f\"{i}: {round(df[i].std(),2)}\")"
   ]
  },
  {
   "cell_type": "code",
   "execution_count": null,
   "metadata": {},
   "outputs": [
    {
     "name": "stdout",
     "output_type": "stream",
     "text": [
      "Churn\n",
      "Shapiro-Wilk-Test Statistik: 0.45170503854751586914062500000000000000000000000000\n",
      "p-Wert: 0.00000000000000000000000000000000000000000000000000\n",
      "Die Daten sind wahrscheinlich nicht normalverteilt.\n",
      "\n",
      "Tenure\n",
      "Shapiro-Wilk-Test Statistik: nan\n",
      "p-Wert: 1.00000000000000000000000000000000000000000000000000\n",
      "Die Daten scheinen normalverteilt zu sein.\n",
      "\n",
      "PreferredLoginDevice\n",
      "CityTier\n",
      "Shapiro-Wilk-Test Statistik: 0.61993896961212158203125000000000000000000000000000\n",
      "p-Wert: 0.00000000000000000000000000000000000000000000000000\n",
      "Die Daten sind wahrscheinlich nicht normalverteilt.\n",
      "\n",
      "WarehouseToHome\n",
      "Shapiro-Wilk-Test Statistik: nan\n",
      "p-Wert: 1.00000000000000000000000000000000000000000000000000\n",
      "Die Daten scheinen normalverteilt zu sein.\n",
      "\n",
      "PreferredPaymentMode\n",
      "Gender\n",
      "HourSpendOnApp\n",
      "Shapiro-Wilk-Test Statistik: nan\n",
      "p-Wert: 1.00000000000000000000000000000000000000000000000000\n",
      "Die Daten scheinen normalverteilt zu sein.\n",
      "\n",
      "NumberOfDeviceRegistered\n",
      "Shapiro-Wilk-Test Statistik: 0.89712220430374145507812500000000000000000000000000\n",
      "p-Wert: 0.00000000000000000000000000000000000000000000000000\n",
      "Die Daten sind wahrscheinlich nicht normalverteilt.\n",
      "\n",
      "PreferedOrderCat\n",
      "SatisfactionScore\n",
      "Shapiro-Wilk-Test Statistik: 0.88595873117446899414062500000000000000000000000000\n",
      "p-Wert: 0.00000000000000000000000000000000000000000000000000\n",
      "Die Daten sind wahrscheinlich nicht normalverteilt.\n",
      "\n",
      "MaritalStatus\n",
      "NumberOfAddress\n",
      "Shapiro-Wilk-Test Statistik: 0.87655466794967651367187500000000000000000000000000\n",
      "p-Wert: 0.00000000000000000000000000000000000000000000000000\n",
      "Die Daten sind wahrscheinlich nicht normalverteilt.\n",
      "\n",
      "Complain\n",
      "Shapiro-Wilk-Test Statistik: 0.56555438041687011718750000000000000000000000000000\n",
      "p-Wert: 0.00000000000000000000000000000000000000000000000000\n",
      "Die Daten sind wahrscheinlich nicht normalverteilt.\n",
      "\n",
      "OrderAmountHikeFromlastYear\n",
      "Shapiro-Wilk-Test Statistik: nan\n",
      "p-Wert: 1.00000000000000000000000000000000000000000000000000\n",
      "Die Daten scheinen normalverteilt zu sein.\n",
      "\n",
      "CouponUsed\n",
      "Shapiro-Wilk-Test Statistik: nan\n",
      "p-Wert: 1.00000000000000000000000000000000000000000000000000\n",
      "Die Daten scheinen normalverteilt zu sein.\n",
      "\n",
      "OrderCount\n",
      "Shapiro-Wilk-Test Statistik: nan\n",
      "p-Wert: 1.00000000000000000000000000000000000000000000000000\n",
      "Die Daten scheinen normalverteilt zu sein.\n",
      "\n",
      "DaySinceLastOrder\n",
      "Shapiro-Wilk-Test Statistik: nan\n",
      "p-Wert: 1.00000000000000000000000000000000000000000000000000\n",
      "Die Daten scheinen normalverteilt zu sein.\n",
      "\n",
      "CashbackAmount\n",
      "Shapiro-Wilk-Test Statistik: 0.88267618417739868164062500000000000000000000000000\n",
      "p-Wert: 0.00000000000000000000000000000000000000000000000000\n",
      "Die Daten sind wahrscheinlich nicht normalverteilt.\n",
      "\n"
     ]
    },
    {
     "name": "stderr",
     "output_type": "stream",
     "text": [
      "c:\\Users\\jakob_hh6vfus\\AppData\\Local\\Programs\\Python\\Python311\\Lib\\site-packages\\scipy\\stats\\_morestats.py:1882: UserWarning: p-value may not be accurate for N > 5000.\n",
      "  warnings.warn(\"p-value may not be accurate for N > 5000.\")\n"
     ]
    }
   ],
   "source": [
    "# Normalverteilung\n",
    "# Der Shapiro-Wilk-Test ist in Python mit der scipy.stats-Bibliothek verfügbar\n",
    "from scipy import stats\n",
    "\n",
    "for i in df.columns:\n",
    "    print(i)\n",
    "    if df[i].dtype == \"object\":\n",
    "        continue\n",
    "\n",
    "    stat, p = stats.shapiro(df[i])\n",
    "    alpha = 0.05\n",
    "    print(f'Shapiro-Wilk-Test Statistik: {stat:.50f}')\n",
    "    print(f'p-Wert: {p:.50f}')\n",
    "    if p > alpha:\n",
    "        print('Die Daten scheinen normalverteilt zu sein.\\n')\n",
    "    else:\n",
    "        print('Die Daten sind wahrscheinlich nicht normalverteilt.\\n')"
   ]
  },
  {
   "cell_type": "markdown",
   "metadata": {},
   "source": [
    "### TODO:\n",
    "\n",
    "Ist es sinnvoll, die Daten in anderer Form aufzubereiten?\n",
    "\n",
    "* Normalisierung => Normalisierung kann sinn machen wenn man beabsichtigt werte von verschiedenen Variablen auf eine Skala dargestellt werden sollen\n",
    "* Dummy-Kodierung => Sinnvoll, wenn man kategoriale Variablen in numerische Variablen umwandeln möchtest.\n",
    "* Numerische Darstellung => Sinnvoll, wenn man textbasierte oder kategoriale Daten in numerische Darstellungen umwandeln möchte.\n",
    "* Kombination mehrerer Variablen => Sinnvoll, wenn man versteckte Muster in den Daten aufdecken möchte, indem man bestehende Variablen miteinander kombiniert\n",
    "* ..."
   ]
  },
  {
   "cell_type": "markdown",
   "metadata": {},
   "source": [
    "### TODO:\n",
    "\n",
    "Erstellen Sie mindestens fünf sinnvolle Visualisierungen.\n",
    "\n",
    "* Beschreiben und interpretieren Sie die Abbildungen.\n",
    "* Gibt es Ausreißer?\n",
    "* ..."
   ]
  },
  {
   "cell_type": "code",
   "execution_count": null,
   "metadata": {},
   "outputs": [
    {
     "name": "stdout",
     "output_type": "stream",
     "text": [
      "Churn\n",
      "0    4682\n",
      "1     948\n",
      "Name: count, dtype: int64\n"
     ]
    },
    {
     "data": {
      "image/png": "[encoded data removed]",
      "text/plain": [
       "<Figure size 640x480 with 1 Axes>"
      ]
     },
     "metadata": {},
     "output_type": "display_data"
    },
    {
     "name": "stdout",
     "output_type": "stream",
     "text": [
      "Aus dem Diagramm lässt sich ablesen das die Absprungrate sehr gering ist \n",
      " (es wird davon ausgegangen das 0 = no Churn 1= Churn)\n"
     ]
    }
   ],
   "source": [
    "# Churn verhältnis (Abwanderungsrate)\n",
    "print(df['Churn'].value_counts())\n",
    "\n",
    "plt.pie(df['Churn'].value_counts(), labels = (\"no\" ,\"yes\"), autopct='%1.1f%%')\n",
    "\n",
    "plt.title(\"Churn rate\", fontsize=10)\n",
    "\n",
    "plt.show()\n",
    "\n",
    "print(\"Aus dem Diagramm lässt sich ablesen das die Absprungrate sehr gering ist \\n (es wird davon ausgegangen das 0 = no Churn 1= Churn)\")"
   ]
  },
  {
   "cell_type": "code",
   "execution_count": null,
   "metadata": {},
   "outputs": [],
   "source": [
    "# Fill the missing values with the avegrage...\n",
    "# This is because this values are less than 10% of our dataset\n",
    "\n",
    "df['Tenure'].fillna(df['Tenure'].mean(), inplace=True)\n",
    "# inplace=True ensures the changes are permanent."
   ]
  },
  {
   "cell_type": "code",
   "execution_count": null,
   "metadata": {},
   "outputs": [
    {
     "name": "stdout",
     "output_type": "stream",
     "text": [
      "0        4\n",
      "1       10\n",
      "2       10\n",
      "3        0\n",
      "4        0\n",
      "        ..\n",
      "5625    10\n",
      "5626    13\n",
      "5627     1\n",
      "5628    23\n",
      "5629     8\n",
      "Name: Tenure, Length: 5630, dtype: int32\n"
     ]
    },
    {
     "data": {
      "image/png": "[encoded data removed]",
      "text/plain": [
       "<Figure size 640x480 with 1 Axes>"
      ]
     },
     "metadata": {},
     "output_type": "display_data"
    }
   ],
   "source": [
    "df['Tenure'] = df['Tenure'].astype(int)\n",
    "print(df['Tenure'])\n",
    "plt.bar(df['Tenure'].unique(), df['Tenure'].value_counts())\n",
    "plt.title(\"Tenure of customer in organization\", fontsize=15)\n",
    "plt.show()"
   ]
  },
  {
   "cell_type": "code",
   "execution_count": null,
   "metadata": {},
   "outputs": [
    {
     "data": {
      "image/png": "[encoded data removed]",
      "text/plain": [
       "<Figure size 800x600 with 1 Axes>"
      ]
     },
     "metadata": {},
     "output_type": "display_data"
    }
   ],
   "source": [
    "plt.figure(figsize=(8, 6))\n",
    "plt.boxplot(df['Tenure'], vert=False)  # vert=False, um den Boxplot horizontal darzustellen\n",
    "plt.title(\"Tenure (Dauer) der Kundenbindung\", fontsize=15)\n",
    "plt.xlabel(\"Tenure (Dauer)\")\n",
    "plt.show()"
   ]
  },
  {
   "cell_type": "code",
   "execution_count": null,
   "metadata": {},
   "outputs": [
    {
     "name": "stdout",
     "output_type": "stream",
     "text": [
      "Gender\n",
      "Female    2.947421\n",
      "Male      2.920991\n",
      "Name: HourSpendOnApp, dtype: float64\n"
     ]
    },
    {
     "data": {
      "text/plain": [
       "Text(0.5, 1.0, 'Durchschnittliche Nutzungsdauer der App nach Geschlecht')"
      ]
     },
     "execution_count": 20,
     "metadata": {},
     "output_type": "execute_result"
    },
    {
     "data": {
      "image/png": "[encoded data removed]",
      "text/plain": [
       "<Figure size 640x480 with 1 Axes>"
      ]
     },
     "metadata": {},
     "output_type": "display_data"
    }
   ],
   "source": [
    "df['HourSpendOnApp'].fillna(df['HourSpendOnApp'].mean(), inplace=True)\n",
    "gender_grouped = df.groupby('Gender')['HourSpendOnApp'].mean()\n",
    "print(gender_grouped)\n",
    "gender_grouped.plot(kind='bar')\n",
    "\n",
    "plt.xlabel('Geschlecht')\n",
    "plt.ylabel('Durchschnittliche Nutzungsdauer (Stunden)')\n",
    "plt.title('Durchschnittliche Nutzungsdauer der App nach Geschlecht')"
   ]
  },
  {
   "cell_type": "markdown",
   "metadata": {},
   "source": [
    "es lässt sich kein Unterschied zwischen Männlich und Weiblich bei der Nutzungsdauer der App feststellen. Beide Geschlechter Nutzen die App im Schnitt 3Std."
   ]
  },
  {
   "cell_type": "code",
   "execution_count": null,
   "metadata": {},
   "outputs": [
    {
     "data": {
      "image/png": "[encoded data removed]",
      "text/plain": [
       "<Figure size 640x480 with 1 Axes>"
      ]
     },
     "metadata": {},
     "output_type": "display_data"
    }
   ],
   "source": [
    "device_counts = df['PreferredLoginDevice'].value_counts()\n",
    "\n",
    "# Balkendiagramm erstellen\n",
    "device_counts.plot(kind='bar', color='skyblue')\n",
    "\n",
    "plt.xlabel('Preferred Login Device')\n",
    "plt.ylabel('Count')\n",
    "plt.title('Bevorzugte Anmeldegeräte')\n",
    "\n",
    "plt.show()"
   ]
  },
  {
   "cell_type": "markdown",
   "metadata": {},
   "source": [
    "Es ist zu erkennen das die meisten nutzer sich per Mobiltelefon anmelden"
   ]
  },
  {
   "cell_type": "markdown",
   "metadata": {},
   "source": [
    "### TODO:\n",
    "\n",
    "Lassen sich Zusammenhänge zwischen zwei Variablen feststellen oder vermuten?\n",
    "=> ja es lässt sich vermuten das ein zusammenhang zwischen der absprungrate und der werte der Complains vorliegt"
   ]
  },
  {
   "cell_type": "markdown",
   "metadata": {},
   "source": [
    "Speichern Sie den bearbeiteten Datensatz ab, sodass Sie zukünftig mit diesem weiterarbeiten können."
   ]
  },
  {
   "cell_type": "code",
   "execution_count": null,
   "metadata": {},
   "outputs": [],
   "source": [
    "# Save dataset\n",
    "\n",
    "df.to_csv('my_dataset.csv', index=None)"
   ]
  },
  {
   "cell_type": "code",
   "execution_count": null,
   "metadata": {},
   "outputs": [],
   "source": []
  }
 ],
 "metadata": {
  "kernelspec": {
   "display_name": "Python 3",
   "language": "python",
   "name": "python3"
  },
  "language_info": {
   "codemirror_mode": {
    "name": "ipython",
    "version": 3
   },
   "file_extension": ".py",
   "mimetype": "text/x-python",
   "name": "python",
   "nbconvert_exporter": "python",
   "pygments_lexer": "ipython3",
   "version": "3.11.5"
  }
 },
 "nbformat": 4,
 "nbformat_minor": 4
}
